{
 "cells": [
  {
   "cell_type": "code",
   "execution_count": 18,
   "metadata": {},
   "outputs": [],
   "source": [
    "import dlib\n",
    "import cv2\n",
    "import json\n",
    "import math\n",
    "import numpy as np\n",
    "import matplotlib.pyplot as plt\n",
    "import pandas as pd\n",
    "# create list for landmarks\n",
    "ALL = list(range(0, 68))\n",
    "RIGHT_EYEBROW = list(range(17, 22))\n",
    "LEFT_EYEBROW = list(range(22, 27))\n",
    "RIGHT_EYE = list(range(36, 42))\n",
    "LEFT_EYE = list(range(42, 48))\n",
    "NOSE = list(range(27, 36))\n",
    "MOUTH_OUTLINE = list(range(48, 61))\n",
    "MOUTH_INNER = list(range(61, 68))\n",
    "JAWLINE = list(range(0, 17))\n",
    "\n",
    "# create face detector, predictor\n",
    "detector = dlib.get_frontal_face_detector()\n",
    "predictor = dlib.shape_predictor('shape_predictor_68_face_landmarks.dat')"
   ]
  },
  {
   "cell_type": "code",
   "execution_count": 26,
   "metadata": {},
   "outputs": [],
   "source": [
    "#이미지 불러오기 && 랜드마크 추출\n",
    "def readImage(imageName) :\n",
    "    #read image\n",
    "    image = cv2.imread(imageName) \n",
    "    image = cv2.resize(image,(864,1152))\n",
    "    image = cv2.cvtColor(image, cv2.COLOR_BGR2GRAY)\n",
    "    \n",
    "    #extract landmark\n",
    "    face = detector(image, 1)[0]\n",
    "    landmarks = predictor(image, face)\n",
    "    points = landmarks.parts()\n",
    "    return image, points"
   ]
  },
  {
   "cell_type": "code",
   "execution_count": 20,
   "metadata": {},
   "outputs": [],
   "source": [
    "def calAngle(points) :\n",
    "    midx = (points[39].x + points[42].x) / 2\n",
    "    midy = (points[39].y + points[42].y) / 2\n",
    "    midx = midx - points[33].x\n",
    "    midy = midy - points[33].y\n",
    "    #xLinex = 1\n",
    "    #xLiney = 0\n",
    "    # return acos(a.dot(b) / (a.norm()*b.norm()));\n",
    "    return (90-math.acos(midx*1 / math.sqrt(midx*midx + midy*midy))*180/math.pi)"
   ]
  },
  {
   "cell_type": "code",
   "execution_count": 21,
   "metadata": {},
   "outputs": [],
   "source": [
    "#origin 점을 기준으로 angle각도 만큼 좌표회전\n",
    "def rotate(origin, point, angle):\n",
    "    angle = angle * -1\n",
    "    ox, oy = origin\n",
    "    px, py = point\n",
    "    qx = ox + math.cos(angle) * (px - ox) - math.sin(angle) * (py - oy)\n",
    "    qy = oy + math.sin(angle) * (px - ox) + math.cos(angle) * (py - oy)\n",
    "    return qx, qy"
   ]
  },
  {
   "cell_type": "code",
   "execution_count": 22,
   "metadata": {},
   "outputs": [],
   "source": [
    "#이미지 및 랜드마크 회전\n",
    "def rotateImage(image, points, angle) :\n",
    "    #이미지 회전\n",
    "    h,w = image.shape[:2]\n",
    "    rotatedImage = np.copy(image)\n",
    "    m1 = cv2.getRotationMatrix2D((w/2,h/2), angle,1)\n",
    "    rotatedImage = cv2.warpAffine(image,m1,(w,h))\n",
    "    \n",
    "    #랜드마크 회전\n",
    "    for p in points :\n",
    "        p.x, p.y = list(map(int, rotate((w/2,h/2),(p.x,p.y),math.radians(angle))))\n",
    "    return rotatedImage, points"
   ]
  },
  {
   "cell_type": "code",
   "execution_count": 23,
   "metadata": {},
   "outputs": [],
   "source": [
    "#이미지 자르기 && 랜드마크도 이동시켜줌\n",
    "def cutImage(image, points) : \n",
    "    ##########중간점 찾기##########\n",
    "    centerPoint = points[29]\n",
    "    dx = math.ceil((points[16].x - points[0].x)/2)\n",
    "    dy = math.ceil((points[8].y - points[19].y)/2)\n",
    "    ##############자르기#############\n",
    "    image = image[points[29].y-dy:points[29].y+dy+1,points[33].x-dx:points[33].x+dx+1]\n",
    "\n",
    "    return image, dx"
   ]
  },
  {
   "cell_type": "code",
   "execution_count": 24,
   "metadata": {},
   "outputs": [],
   "source": [
    "#이미지 출력\n",
    "def printImage(image, points) :\n",
    "    for p in points :\n",
    "        cv2.circle(image, (p.x, p.y), 2, (0, 255, 0), -1)\n",
    "    plt.imshow(image, cmap='gray')"
   ]
  },
  {
   "cell_type": "code",
   "execution_count": 27,
   "metadata": {},
   "outputs": [],
   "source": [
    "image, points = readImage(\"0 (19).jpg\") #이미지 읽어 오기\n",
    "Landmarks = points # C++ 연산에서 사용할 랜드마크\n",
    "angle = calAngle(points) # 회전해야할 각도 계산\n",
    "image, points = rotateImage(image,points, angle) #이미지 회전\n",
    "image, dx = cutImage(image, points) #이미지 자르기"
   ]
  },
  {
   "cell_type": "code",
   "execution_count": 28,
   "metadata": {},
   "outputs": [],
   "source": [
    "%matplotlib inline\n",
    "import numpy as np\n",
    "from skimage import io, filters\n",
    "from skimage.color import rgb2gray\n",
    "from scipy import ndimage as nd"
   ]
  },
  {
   "cell_type": "code",
   "execution_count": 29,
   "metadata": {},
   "outputs": [],
   "source": [
    "image = filters.gaussian(image, sigma=1.5)\n",
    "gray_image = rgb2gray(image)\n",
    "grad_x = nd.convolve(gray_image, np.array([[-1, 0, 1], [-2, 0, 2], [-1, 0, 1]])) \n",
    "grad_y = nd.convolve(gray_image, np.array([[1, 2, 1], [0, 0, 0], [-1, -2, -1]]))\n",
    "mag = np.sqrt(np.power(grad_x,2)+np.power(grad_y,2))\n",
    "theta = np.arctan2(np.power(grad_y,2), np.power(grad_x,2))"
   ]
  },
  {
   "cell_type": "code",
   "execution_count": 30,
   "metadata": {},
   "outputs": [],
   "source": [
    "y_size = image.shape[0]\n",
    "x_size = image.shape[1]\n",
    "cnt = y_size * x_size / 2"
   ]
  },
  {
   "cell_type": "code",
   "execution_count": 31,
   "metadata": {},
   "outputs": [
    {
     "name": "stdout",
     "output_type": "stream",
     "text": [
      "[0.044153837854207435, 0.8339438754744997]\n"
     ]
    }
   ],
   "source": [
    "DD = 0\n",
    "for y in range(0,y_size) : \n",
    "    for x in range(0,dx) : \n",
    "        DD = DD + abs(mag[y][x] - mag[y][x_size-1-x])\n",
    "DD = DD / cnt\n",
    "     \n",
    "EOS = 0\n",
    "for y in range(0,y_size) : \n",
    "    for x in range(0,dx) :\n",
    "        EOS = EOS + abs(theta[y][x] - theta[y][x_size-1-x])\n",
    "EOS = math.cos(EOS / cnt)\n",
    "X = [DD,EOS]\n",
    "print(X)"
   ]
  },
  {
   "cell_type": "code",
   "execution_count": 32,
   "metadata": {},
   "outputs": [],
   "source": [
    "df = pd.DataFrame(X)\n",
    "X = np.array(df).T"
   ]
  },
  {
   "cell_type": "code",
   "execution_count": 33,
   "metadata": {},
   "outputs": [],
   "source": [
    "from keras.utils import np_utils\n",
    "from keras.datasets import mnist\n",
    "from keras.models import Sequential\n",
    "from keras.layers import Dense, Activation, Dropout\n",
    "import keras\n",
    "from numpy import argmax\n",
    "import tensorflow as tf\n",
    "from tensorflow import keras\n",
    "from keras.models import load_model"
   ]
  },
  {
   "cell_type": "code",
   "execution_count": 34,
   "metadata": {},
   "outputs": [],
   "source": [
    "LoadModel = load_model('DDEOSMODEL.h5')"
   ]
  },
  {
   "cell_type": "code",
   "execution_count": 36,
   "metadata": {},
   "outputs": [
    {
     "data": {
      "text/plain": [
       "array([[0.48531815]], dtype=float32)"
      ]
     },
     "execution_count": 36,
     "metadata": {},
     "output_type": "execute_result"
    }
   ],
   "source": [
    "a = LoadModel.predict(X)\n",
    "a"
   ]
  }
 ],
 "metadata": {
  "kernelspec": {
   "display_name": "Python 3",
   "language": "python",
   "name": "python3"
  },
  "language_info": {
   "codemirror_mode": {
    "name": "ipython",
    "version": 3
   },
   "file_extension": ".py",
   "mimetype": "text/x-python",
   "name": "python",
   "nbconvert_exporter": "python",
   "pygments_lexer": "ipython3",
   "version": "3.8.3"
  }
 },
 "nbformat": 4,
 "nbformat_minor": 4
}
