{
 "cells": [
  {
   "cell_type": "code",
   "execution_count": 190,
   "metadata": {},
   "outputs": [],
   "source": [
    "%matplotlib inline\n",
    "import numpy as np\n",
    "from skimage import io, filters\n",
    "from skimage.color import rgb2gray\n",
    "from scipy import ndimage as nd"
   ]
  },
  {
   "cell_type": "code",
   "execution_count": 191,
   "metadata": {},
   "outputs": [],
   "source": [
    "image = io.imread('aa.jpg')\n",
    "image = filters.gaussian(image, sigma=1.5)\n",
    "gray_image = rgb2gray(image)\n",
    "grad_x = nd.convolve(gray_image, np.array([[-1, 0, 1], [-2, 0, 2], [-1, 0, 1]])) \n",
    "grad_y = nd.convolve(gray_image, np.array([[1, 2, 1], [0, 0, 0], [-1, -2, -1]]))\n",
    "mag = np.sqrt(np.power(grad_x,2)+np.power(grad_y,2))\n",
    "theta = np.arctan2(np.power(grad_y,2), np.power(grad_x,2))"
   ]
  },
  {
   "cell_type": "code",
   "execution_count": 192,
   "metadata": {},
   "outputs": [],
   "source": [
    "size = image.shape[0]\n",
    "halfSize = round(size/2)\n",
    "cnt = size * halfSize"
   ]
  },
  {
   "cell_type": "code",
   "execution_count": 197,
   "metadata": {},
   "outputs": [
    {
     "data": {
      "text/plain": [
       "-0.004139379413250923"
      ]
     },
     "execution_count": 197,
     "metadata": {},
     "output_type": "execute_result"
    }
   ],
   "source": [
    "DD = 0\n",
    "for i in range(0,size) : \n",
    "    for j in range(0,halfSize) : \n",
    "        DD = DD + mag[j][i] - mag[126-j][i]\n",
    "DD = DD / cnt\n",
    "DD"
   ]
  },
  {
   "cell_type": "code",
   "execution_count": 189,
   "metadata": {},
   "outputs": [
    {
     "data": {
      "text/plain": [
       "0.057503699752717394"
      ]
     },
     "execution_count": 189,
     "metadata": {},
     "output_type": "execute_result"
    }
   ],
   "source": [
    "EOS = 0\n",
    "for i in range(0,size) : \n",
    "    for j in range(0,halfSize) : \n",
    "        EOS = EOS + theta[j][i] - theta[126-j][i]\n",
    "EOS = EOS / cnt\n",
    "EOS"
   ]
  }
 ],
 "metadata": {
  "kernelspec": {
   "display_name": "Python 3",
   "language": "python",
   "name": "python3"
  },
  "language_info": {
   "codemirror_mode": {
    "name": "ipython",
    "version": 3
   },
   "file_extension": ".py",
   "mimetype": "text/x-python",
   "name": "python",
   "nbconvert_exporter": "python",
   "pygments_lexer": "ipython3",
   "version": "3.8.3"
  }
 },
 "nbformat": 4,
 "nbformat_minor": 4
}
